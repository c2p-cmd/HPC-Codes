{
 "cells": [
  {
   "cell_type": "code",
   "execution_count": 34,
   "id": "e60790a3",
   "metadata": {},
   "outputs": [],
   "source": [
    "import numpy as np\n",
    "import pandas as pd"
   ]
  },
  {
   "cell_type": "code",
   "execution_count": 35,
   "id": "6e321b37",
   "metadata": {},
   "outputs": [],
   "source": [
    "from sklearn.datasets import fetch_openml \n",
    "boston = fetch_openml(data_id=506)\n",
    "    "
   ]
  },
  {
   "cell_type": "code",
   "execution_count": 36,
   "id": "01bcdea0",
   "metadata": {},
   "outputs": [],
   "source": [
    "data = pd.DataFrame(boston.data)"
   ]
  },
  {
   "cell_type": "code",
   "execution_count": 37,
   "id": "b79cfe5a",
   "metadata": {},
   "outputs": [],
   "source": [
    "data.head()"
   ]
  },
  {
   "cell_type": "code",
   "execution_count": 38,
   "id": "e34cfdd4",
   "metadata": {},
   "outputs": [],
   "source": [
    "#Adding the feature names to the dataframe\n",
    "data.columns = boston.feature_names\n",
    "#Adding the target variable to the dataset\n",
    "data['PRICE'] = boston.target\n",
    "#Looking at the data with names and target variable\n",
    "data.head(n=10)\n",
    "data.keys\n"
   ]
  },
  {
   "cell_type": "code",
   "execution_count": 39,
   "id": "ce17d5ad",
   "metadata": {},
   "outputs": [],
   "source": [
    "print(data.shape)\n",
    "#Checking the null values in the dataset\n",
    "data.isnull().sum()"
   ]
  },
  {
   "cell_type": "code",
   "execution_count": 40,
   "id": "733327c8",
   "metadata": {},
   "outputs": [],
   "source": [
    "data.describe()"
   ]
  },
  {
   "cell_type": "code",
   "execution_count": 41,
   "id": "8611e999",
   "metadata": {},
   "outputs": [],
   "source": [
    "data.info()"
   ]
  },
  {
   "cell_type": "code",
   "execution_count": 42,
   "id": "c7eb326a",
   "metadata": {},
   "outputs": [],
   "source": [
    "import seaborn as sns\n",
    "sns.distplot(data.PRICE)"
   ]
  },
  {
   "cell_type": "code",
   "execution_count": 43,
   "id": "c82ac4d9",
   "metadata": {},
   "outputs": [],
   "source": [
    "sns.boxplot(data.PRICE)\n"
   ]
  },
  {
   "cell_type": "code",
   "execution_count": 44,
   "id": "8c86e9ef",
   "metadata": {},
   "outputs": [],
   "source": [
    "correlation = data.corr()\n",
    "correlation.loc['PRICE']"
   ]
  },
  {
   "cell_type": "code",
   "execution_count": 45,
   "id": "4e195263",
   "metadata": {},
   "outputs": [],
   "source": [
    "import matplotlib.pyplot as plt\n",
    "fig,axes = plt.subplots(figsize=(15,12))\n",
    "sns.heatmap(correlation,square = True,annot = True)"
   ]
  },
  {
   "cell_type": "code",
   "execution_count": 46,
   "id": "8cb20ed5",
   "metadata": {},
   "outputs": [],
   "source": [
    "# plt.figure(figsize = (20,5))\n",
    "# features = ['LSTAT','RM','PTRATIO']\n",
    "# for i, col in enumerate(features):\n",
    "#     plt.subplot(1, len(features) , i+1)\n",
    "#     x = data[col]\n",
    "#     y = data.PRICE\n",
    "#     plt.scatter(x, y, marker='o')\n",
    "#     plt.title(\"Variation in House prices\")\n",
    "#     plt.xlabel(col)\n",
    "#     plt.ylabel('\"House prices in $1000\"')"
   ]
  },
  {
   "cell_type": "code",
   "execution_count": 47,
   "id": "3800860e",
   "metadata": {},
   "outputs": [],
   "source": [
    "X = data.iloc[:,:-1]\n",
    "y = data.PRICE"
   ]
  },
  {
   "cell_type": "code",
   "execution_count": 48,
   "id": "164ed446",
   "metadata": {},
   "outputs": [],
   "source": [
    "from sklearn.model_selection import train_test_split\n",
    "from sklearn.linear_model import LinearRegression"
   ]
  },
  {
   "cell_type": "code",
   "execution_count": 49,
   "id": "28d1dbf8",
   "metadata": {},
   "outputs": [],
   "source": [
    "X_train, X_test, y_train, y_test = train_test_split(X, y, test_size=0.4)"
   ]
  },
  {
   "cell_type": "code",
   "execution_count": 50,
   "id": "8ea05bab",
   "metadata": {},
   "outputs": [],
   "source": [
    "mean = X_train.mean(axis=0)\n",
    "std = X_train.std(axis=0)"
   ]
  },
  {
   "cell_type": "code",
   "execution_count": null,
   "id": "7b0edeac",
   "metadata": {},
   "outputs": [],
   "source": [
    "regressor = LinearRegression()\n",
    "#Fitting the model\n",
    "regressor.fit(X_train,y_train)"
   ]
  },
  {
   "cell_type": "code",
   "execution_count": null,
   "id": "68971032",
   "metadata": {},
   "outputs": [],
   "source": [
    "predictions = regressor.predict(X_test)"
   ]
  },
  {
   "cell_type": "code",
   "execution_count": null,
   "id": "9094244d",
   "metadata": {},
   "outputs": [],
   "source": [
    "plt.scatter(y_test,predictions)\n",
    "plt.xlabel('Y Test')\n",
    "plt.ylabel('Predicted Y')"
   ]
  },
  {
   "cell_type": "code",
   "execution_count": null,
   "id": "c034d575",
   "metadata": {},
   "outputs": [],
   "source": [
    "#Prediction on the test dataset\n",
    "y_pred = regressor.predict(X_test)\n",
    "# Predicting RMSE the Test set results\n",
    "from sklearn.metrics import mean_squared_error\n",
    "rmse = (np.sqrt(mean_squared_error(y_test, y_pred)))\n",
    "print(rmse)\n"
   ]
  },
  {
   "cell_type": "code",
   "execution_count": null,
   "id": "d76609a6",
   "metadata": {},
   "outputs": [],
   "source": [
    "from sklearn.metrics import r2_score\n",
    "r2 = r2_score(y_test, y_pred)\n",
    "print(r2)\n"
   ]
  },
  {
   "cell_type": "code",
   "execution_count": null,
   "id": "fcd3b803",
   "metadata": {},
   "outputs": [],
   "source": [
    "# Neural Networks\n",
    "#Scaling the dataset\n",
    "from sklearn.preprocessing import StandardScaler\n",
    "sc = StandardScaler()\n",
    "X_train = sc.fit_transform(X_train)\n",
    "X_test = sc.transform(X_test)"
   ]
  },
  {
   "cell_type": "code",
   "execution_count": null,
   "id": "c7aa8377",
   "metadata": {},
   "outputs": [],
   "source": [
    "#Creating the neural network model\n",
    "import keras\n",
    "from keras.layers import Dense, Activation,Dropout\n",
    "from keras.models import Sequential\n",
    "\n",
    "model = Sequential()\n",
    "model.add(Dense(128,activation = 'relu',input_dim =13))\n",
    "model.add(Dense(64,activation = 'relu'))\n",
    "model.add(Dense(32,activation = 'relu'))\n",
    "model.add(Dense(16,activation = 'relu'))\n",
    "model.add(Dense(1))"
   ]
  },
  {
   "cell_type": "code",
   "execution_count": null,
   "id": "6921e3d5",
   "metadata": {},
   "outputs": [],
   "source": [
    "#model.compile(optimizer='adam', loss='mse', metrics=['mae'])\n",
    "model.compile(optimizer = 'adam',loss ='mean_squared_error',metrics=['mae'])"
   ]
  },
  {
   "cell_type": "code",
   "execution_count": null,
   "id": "bfbf0ca4",
   "metadata": {},
   "outputs": [],
   "source": [
    "#Evaluation of the model\n",
    "y_pred = model.predict(X_test)\n",
    "mse_nn, mae_nn = model.evaluate(X_test, y_test)\n",
    "print('Mean squared error on test data: ', mse_nn)\n",
    "print('Mean absolute error on test data: ', mae_nn)"
   ]
  },
  {
   "cell_type": "code",
   "execution_count": null,
   "id": "9a18cfda",
   "metadata": {},
   "outputs": [],
   "source": [
    "#Comparison with traditional approaches\n",
    "#First let's try with a simple algorithm, the Linear Regression:\n",
    "from sklearn.metrics import mean_absolute_error\n",
    "lr_model = LinearRegression()\n",
    "lr_model.fit(X_train, y_train)"
   ]
  },
  {
   "cell_type": "code",
   "execution_count": null,
   "id": "f4fe07f8",
   "metadata": {},
   "outputs": [],
   "source": [
    "y_pred_lr = lr_model.predict(X_test)\n",
    "mse_lr = mean_squared_error(y_test, y_pred_lr)\n",
    "mae_lr = mean_absolute_error(y_test, y_pred_lr)\n",
    "print('Mean squared error on test data: ', mse_lr)\n",
    "print('Mean absolute error on test data: ', mae_lr)\n",
    "from sklearn.metrics import r2_score\n",
    "r2 = r2_score(y_test, y_pred)\n",
    "print(r2)"
   ]
  },
  {
   "cell_type": "code",
   "execution_count": null,
   "id": "2b22767f",
   "metadata": {},
   "outputs": [],
   "source": [
    "# Predicting RMSE the Test set results\n",
    "from sklearn.metrics import mean_squared_error\n",
    "rmse = (np.sqrt(mean_squared_error(y_test, y_pred)))\n",
    "print(rmse)"
   ]
  },
  {
   "cell_type": "code",
   "execution_count": null,
   "id": "104e3345",
   "metadata": {},
   "outputs": [],
   "source": [
    "# Make predictions on new data\n",
    "import sklearn\n",
    "new_data = sklearn.preprocessing.StandardScaler().fit_transform(([[0.1, 10.0,\n",
    "5.0, 0, 0.4, 6.0, 50, 6.0, 1, 400, 20, 300, 10]]))\n",
    "prediction = model.predict(new_data)\n",
    "print(\"Predicted house price:\", prediction)"
   ]
  },
  {
   "cell_type": "code",
   "execution_count": null,
   "id": "0c55c6aa",
   "metadata": {},
   "outputs": [],
   "source": []
  }
 ],
 "metadata": {
  "kernelspec": {
   "display_name": "Python 3 (ipykernel)",
   "language": "python",
   "name": "python3"
  },
  "language_info": {
   "codemirror_mode": {
    "name": "ipython",
    "version": 3
   },
   "file_extension": ".py",
   "mimetype": "text/x-python",
   "name": "python",
   "nbconvert_exporter": "python",
   "pygments_lexer": "ipython3",
   "version": "3.10.11"
  },
  "vscode": {
   "interpreter": {
    "hash": "74457373af560f181a735a7013178e51b40b184862098c9428e67687a0155b1c"
   }
  }
 },
 "nbformat": 4,
 "nbformat_minor": 5
}
