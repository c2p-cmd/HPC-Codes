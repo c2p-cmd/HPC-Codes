{
 "cells": [
  {
   "cell_type": "markdown",
   "metadata": {
    "_uuid": "a40153021c15eb45ff2026d456945763c79c11ef"
   },
   "source": [
    "# Boston house price prediction"
   ]
  },
  {
   "cell_type": "markdown",
   "metadata": {
    "_uuid": "8731c498e69012e3b8e407399ab813f0f15fc732"
   },
   "source": [
    "The problem that we are going to solve here is that given a set of features that describe a house in Boston, our machine learning model must predict the house price. To train our machine learning model with boston housing data, we will be using scikit-learn’s boston dataset.\n",
    "\n",
    "In this dataset, each row describes a boston town or suburb. There are 506 rows and 13 attributes (features) with a target column (price).\n",
    "https://archive.ics.uci.edu/ml/machine-learning-databases/housing/housing.names"
   ]
  },
  {
   "cell_type": "code",
   "execution_count": 2,
   "metadata": {
    "_uuid": "c72424fcefad6b27f904bdc3301ff272baf3b212"
   },
   "outputs": [],
   "source": [
    "# Importing the libraries \n",
    "import pandas as pd\n",
    "import numpy as np\n",
    "from sklearn import metrics\n",
    "import matplotlib.pyplot as plt\n",
    "import seaborn as sns\n",
    "%matplotlib inline"
   ]
  },
  {
   "cell_type": "code",
   "execution_count": 3,
   "metadata": {},
   "outputs": [],
   "source": [
    "import pandas as pd\n",
    "import numpy as np\n",
    "from tensorflow import keras\n",
    "from sklearn.model_selection import train_test_split\n",
    "\n",
    "# Load the data from a CSV file\n",
    "import pandas as pd\n",
    "df = pd.read_csv(\"bostonHousing.csv\")"
   ]
  },
  {
   "cell_type": "markdown",
   "metadata": {
    "_uuid": "45b04cfb9bfc68cfab0ebf412ad402bac6fc5343"
   },
   "source": [
    "CRIM per capita crime rate by town <br>\n",
    "ZN proportion of residential land zoned for lots over 25,000 sq.ft. <br>\n",
    "INDUS proportion of non-retail business acres per town <br>\n",
    "CHAS Charles River dummy variable (= 1 if tract bounds river; 0 otherwise) <br>\n",
    "NOX nitric oxides concentration (parts per 10 million) <br>\n",
    "RM average number of rooms per dwelling <br>\n",
    "AGE proportion of owner-occupied units built prior to 1940 <br>\n",
    "DIS weighted distances to five Boston employment centres <br>\n",
    "RAD index of accessibility to radial highways <br>\n",
    "TAX full-value property-tax rate per 10,000usd <br>\n",
    "PTRATIO pupil-teacher ratio by town <br>\n",
    "B 1000(Bk - 0.63)^2 where Bk is the proportion of blacks by town <br>\n",
    "LSTAT % lower status of the population <br>"
   ]
  },
  {
   "cell_type": "markdown",
   "metadata": {
    "_uuid": "d16fdd57c4ee58a812935d5a3e1f4bfe5923e23e"
   },
   "source": [
    "Each record in the database describes a Boston suburb or town."
   ]
  },
  {
   "cell_type": "code",
   "execution_count": 4,
   "metadata": {
    "_uuid": "b5edd7daea054f44df78e956846596fd9e82274f"
   },
   "outputs": [
    {
     "data": {
      "text/plain": [
       "(506, 14)"
      ]
     },
     "execution_count": 4,
     "metadata": {},
     "output_type": "execute_result"
    }
   ],
   "source": [
    "#Check the shape of dataframe\n",
    "df.shape"
   ]
  },
  {
   "cell_type": "code",
   "execution_count": 5,
   "metadata": {
    "_uuid": "264fd03458b3b349d2d52ac02b83e2e85b6190b2"
   },
   "outputs": [
    {
     "data": {
      "text/plain": [
       "Index(['crim', 'zn', 'indus', 'chas', 'nox', 'rm', 'age', 'dis', 'rad', 'tax',\n",
       "       'ptratio', 'b', 'lstat', 'medv'],\n",
       "      dtype='object')"
      ]
     },
     "execution_count": 5,
     "metadata": {},
     "output_type": "execute_result"
    }
   ],
   "source": [
    "df.columns"
   ]
  },
  {
   "cell_type": "code",
   "execution_count": 6,
   "metadata": {
    "_uuid": "1a745ede36d316c539a7c8d53ced27b9ccae85b2"
   },
   "outputs": [
    {
     "data": {
      "text/plain": [
       "crim       float64\n",
       "zn         float64\n",
       "indus      float64\n",
       "chas         int64\n",
       "nox        float64\n",
       "rm         float64\n",
       "age        float64\n",
       "dis        float64\n",
       "rad          int64\n",
       "tax          int64\n",
       "ptratio    float64\n",
       "b          float64\n",
       "lstat      float64\n",
       "medv       float64\n",
       "dtype: object"
      ]
     },
     "execution_count": 6,
     "metadata": {},
     "output_type": "execute_result"
    }
   ],
   "source": [
    "df.dtypes"
   ]
  },
  {
   "cell_type": "code",
   "execution_count": 7,
   "metadata": {
    "_uuid": "e86b006860c2efe29294aca3ba4419d9c758ced2"
   },
   "outputs": [
    {
     "data": {
      "text/plain": [
       "crim       504\n",
       "zn          26\n",
       "indus       76\n",
       "chas         2\n",
       "nox         81\n",
       "rm         446\n",
       "age        356\n",
       "dis        412\n",
       "rad          9\n",
       "tax         66\n",
       "ptratio     46\n",
       "b          357\n",
       "lstat      455\n",
       "medv       229\n",
       "dtype: int64"
      ]
     },
     "execution_count": 7,
     "metadata": {},
     "output_type": "execute_result"
    }
   ],
   "source": [
    "# Identifying the unique number of values in the dataset\n",
    "df.nunique()"
   ]
  },
  {
   "cell_type": "code",
   "execution_count": 8,
   "metadata": {
    "_uuid": "cef1bbf6ab92b5cd42a9a0771a24f48a09acf218"
   },
   "outputs": [
    {
     "data": {
      "text/plain": [
       "crim       0\n",
       "zn         0\n",
       "indus      0\n",
       "chas       0\n",
       "nox        0\n",
       "rm         0\n",
       "age        0\n",
       "dis        0\n",
       "rad        0\n",
       "tax        0\n",
       "ptratio    0\n",
       "b          0\n",
       "lstat      0\n",
       "medv       0\n",
       "dtype: int64"
      ]
     },
     "execution_count": 8,
     "metadata": {},
     "output_type": "execute_result"
    }
   ],
   "source": [
    "# Check for missing values\n",
    "df.isnull().sum()"
   ]
  },
  {
   "cell_type": "code",
   "execution_count": 9,
   "metadata": {
    "_uuid": "9d77b2f0e188a0bad15574340c61fad981a571b5"
   },
   "outputs": [
    {
     "data": {
      "text/html": [
       "<div>\n",
       "<style scoped>\n",
       "    .dataframe tbody tr th:only-of-type {\n",
       "        vertical-align: middle;\n",
       "    }\n",
       "\n",
       "    .dataframe tbody tr th {\n",
       "        vertical-align: top;\n",
       "    }\n",
       "\n",
       "    .dataframe thead th {\n",
       "        text-align: right;\n",
       "    }\n",
       "</style>\n",
       "<table border=\"1\" class=\"dataframe\">\n",
       "  <thead>\n",
       "    <tr style=\"text-align: right;\">\n",
       "      <th></th>\n",
       "      <th>crim</th>\n",
       "      <th>zn</th>\n",
       "      <th>indus</th>\n",
       "      <th>chas</th>\n",
       "      <th>nox</th>\n",
       "      <th>rm</th>\n",
       "      <th>age</th>\n",
       "      <th>dis</th>\n",
       "      <th>rad</th>\n",
       "      <th>tax</th>\n",
       "      <th>ptratio</th>\n",
       "      <th>b</th>\n",
       "      <th>lstat</th>\n",
       "      <th>medv</th>\n",
       "    </tr>\n",
       "  </thead>\n",
       "  <tbody>\n",
       "  </tbody>\n",
       "</table>\n",
       "</div>"
      ],
      "text/plain": [
       "Empty DataFrame\n",
       "Columns: [crim, zn, indus, chas, nox, rm, age, dis, rad, tax, ptratio, b, lstat, medv]\n",
       "Index: []"
      ]
     },
     "execution_count": 9,
     "metadata": {},
     "output_type": "execute_result"
    }
   ],
   "source": [
    "# See rows with missing values\n",
    "df[df.isnull().any(axis=1)]"
   ]
  },
  {
   "cell_type": "code",
   "execution_count": 10,
   "metadata": {
    "_uuid": "fd9f1bad153f453931265ca2c2662a138a6737b3",
    "scrolled": true
   },
   "outputs": [
    {
     "data": {
      "text/html": [
       "<div>\n",
       "<style scoped>\n",
       "    .dataframe tbody tr th:only-of-type {\n",
       "        vertical-align: middle;\n",
       "    }\n",
       "\n",
       "    .dataframe tbody tr th {\n",
       "        vertical-align: top;\n",
       "    }\n",
       "\n",
       "    .dataframe thead th {\n",
       "        text-align: right;\n",
       "    }\n",
       "</style>\n",
       "<table border=\"1\" class=\"dataframe\">\n",
       "  <thead>\n",
       "    <tr style=\"text-align: right;\">\n",
       "      <th></th>\n",
       "      <th>crim</th>\n",
       "      <th>zn</th>\n",
       "      <th>indus</th>\n",
       "      <th>chas</th>\n",
       "      <th>nox</th>\n",
       "      <th>rm</th>\n",
       "      <th>age</th>\n",
       "      <th>dis</th>\n",
       "      <th>rad</th>\n",
       "      <th>tax</th>\n",
       "      <th>ptratio</th>\n",
       "      <th>b</th>\n",
       "      <th>lstat</th>\n",
       "      <th>medv</th>\n",
       "    </tr>\n",
       "  </thead>\n",
       "  <tbody>\n",
       "    <tr>\n",
       "      <th>count</th>\n",
       "      <td>506.000000</td>\n",
       "      <td>506.000000</td>\n",
       "      <td>506.000000</td>\n",
       "      <td>506.000000</td>\n",
       "      <td>506.000000</td>\n",
       "      <td>506.000000</td>\n",
       "      <td>506.000000</td>\n",
       "      <td>506.000000</td>\n",
       "      <td>506.000000</td>\n",
       "      <td>506.000000</td>\n",
       "      <td>506.000000</td>\n",
       "      <td>506.000000</td>\n",
       "      <td>506.000000</td>\n",
       "      <td>506.000000</td>\n",
       "    </tr>\n",
       "    <tr>\n",
       "      <th>mean</th>\n",
       "      <td>3.613524</td>\n",
       "      <td>11.363636</td>\n",
       "      <td>11.136779</td>\n",
       "      <td>0.069170</td>\n",
       "      <td>0.554695</td>\n",
       "      <td>6.284634</td>\n",
       "      <td>68.574901</td>\n",
       "      <td>3.795043</td>\n",
       "      <td>9.549407</td>\n",
       "      <td>408.237154</td>\n",
       "      <td>18.455534</td>\n",
       "      <td>356.674032</td>\n",
       "      <td>12.653063</td>\n",
       "      <td>22.532806</td>\n",
       "    </tr>\n",
       "    <tr>\n",
       "      <th>std</th>\n",
       "      <td>8.601545</td>\n",
       "      <td>23.322453</td>\n",
       "      <td>6.860353</td>\n",
       "      <td>0.253994</td>\n",
       "      <td>0.115878</td>\n",
       "      <td>0.702617</td>\n",
       "      <td>28.148861</td>\n",
       "      <td>2.105710</td>\n",
       "      <td>8.707259</td>\n",
       "      <td>168.537116</td>\n",
       "      <td>2.164946</td>\n",
       "      <td>91.294864</td>\n",
       "      <td>7.141062</td>\n",
       "      <td>9.197104</td>\n",
       "    </tr>\n",
       "    <tr>\n",
       "      <th>min</th>\n",
       "      <td>0.006320</td>\n",
       "      <td>0.000000</td>\n",
       "      <td>0.460000</td>\n",
       "      <td>0.000000</td>\n",
       "      <td>0.385000</td>\n",
       "      <td>3.561000</td>\n",
       "      <td>2.900000</td>\n",
       "      <td>1.129600</td>\n",
       "      <td>1.000000</td>\n",
       "      <td>187.000000</td>\n",
       "      <td>12.600000</td>\n",
       "      <td>0.320000</td>\n",
       "      <td>1.730000</td>\n",
       "      <td>5.000000</td>\n",
       "    </tr>\n",
       "    <tr>\n",
       "      <th>25%</th>\n",
       "      <td>0.082045</td>\n",
       "      <td>0.000000</td>\n",
       "      <td>5.190000</td>\n",
       "      <td>0.000000</td>\n",
       "      <td>0.449000</td>\n",
       "      <td>5.885500</td>\n",
       "      <td>45.025000</td>\n",
       "      <td>2.100175</td>\n",
       "      <td>4.000000</td>\n",
       "      <td>279.000000</td>\n",
       "      <td>17.400000</td>\n",
       "      <td>375.377500</td>\n",
       "      <td>6.950000</td>\n",
       "      <td>17.025000</td>\n",
       "    </tr>\n",
       "    <tr>\n",
       "      <th>50%</th>\n",
       "      <td>0.256510</td>\n",
       "      <td>0.000000</td>\n",
       "      <td>9.690000</td>\n",
       "      <td>0.000000</td>\n",
       "      <td>0.538000</td>\n",
       "      <td>6.208500</td>\n",
       "      <td>77.500000</td>\n",
       "      <td>3.207450</td>\n",
       "      <td>5.000000</td>\n",
       "      <td>330.000000</td>\n",
       "      <td>19.050000</td>\n",
       "      <td>391.440000</td>\n",
       "      <td>11.360000</td>\n",
       "      <td>21.200000</td>\n",
       "    </tr>\n",
       "    <tr>\n",
       "      <th>75%</th>\n",
       "      <td>3.677083</td>\n",
       "      <td>12.500000</td>\n",
       "      <td>18.100000</td>\n",
       "      <td>0.000000</td>\n",
       "      <td>0.624000</td>\n",
       "      <td>6.623500</td>\n",
       "      <td>94.075000</td>\n",
       "      <td>5.188425</td>\n",
       "      <td>24.000000</td>\n",
       "      <td>666.000000</td>\n",
       "      <td>20.200000</td>\n",
       "      <td>396.225000</td>\n",
       "      <td>16.955000</td>\n",
       "      <td>25.000000</td>\n",
       "    </tr>\n",
       "    <tr>\n",
       "      <th>max</th>\n",
       "      <td>88.976200</td>\n",
       "      <td>100.000000</td>\n",
       "      <td>27.740000</td>\n",
       "      <td>1.000000</td>\n",
       "      <td>0.871000</td>\n",
       "      <td>8.780000</td>\n",
       "      <td>100.000000</td>\n",
       "      <td>12.126500</td>\n",
       "      <td>24.000000</td>\n",
       "      <td>711.000000</td>\n",
       "      <td>22.000000</td>\n",
       "      <td>396.900000</td>\n",
       "      <td>37.970000</td>\n",
       "      <td>50.000000</td>\n",
       "    </tr>\n",
       "  </tbody>\n",
       "</table>\n",
       "</div>"
      ],
      "text/plain": [
       "             crim          zn       indus        chas         nox          rm   \n",
       "count  506.000000  506.000000  506.000000  506.000000  506.000000  506.000000  \\\n",
       "mean     3.613524   11.363636   11.136779    0.069170    0.554695    6.284634   \n",
       "std      8.601545   23.322453    6.860353    0.253994    0.115878    0.702617   \n",
       "min      0.006320    0.000000    0.460000    0.000000    0.385000    3.561000   \n",
       "25%      0.082045    0.000000    5.190000    0.000000    0.449000    5.885500   \n",
       "50%      0.256510    0.000000    9.690000    0.000000    0.538000    6.208500   \n",
       "75%      3.677083   12.500000   18.100000    0.000000    0.624000    6.623500   \n",
       "max     88.976200  100.000000   27.740000    1.000000    0.871000    8.780000   \n",
       "\n",
       "              age         dis         rad         tax     ptratio           b   \n",
       "count  506.000000  506.000000  506.000000  506.000000  506.000000  506.000000  \\\n",
       "mean    68.574901    3.795043    9.549407  408.237154   18.455534  356.674032   \n",
       "std     28.148861    2.105710    8.707259  168.537116    2.164946   91.294864   \n",
       "min      2.900000    1.129600    1.000000  187.000000   12.600000    0.320000   \n",
       "25%     45.025000    2.100175    4.000000  279.000000   17.400000  375.377500   \n",
       "50%     77.500000    3.207450    5.000000  330.000000   19.050000  391.440000   \n",
       "75%     94.075000    5.188425   24.000000  666.000000   20.200000  396.225000   \n",
       "max    100.000000   12.126500   24.000000  711.000000   22.000000  396.900000   \n",
       "\n",
       "            lstat        medv  \n",
       "count  506.000000  506.000000  \n",
       "mean    12.653063   22.532806  \n",
       "std      7.141062    9.197104  \n",
       "min      1.730000    5.000000  \n",
       "25%      6.950000   17.025000  \n",
       "50%     11.360000   21.200000  \n",
       "75%     16.955000   25.000000  \n",
       "max     37.970000   50.000000  "
      ]
     },
     "execution_count": 10,
     "metadata": {},
     "output_type": "execute_result"
    }
   ],
   "source": [
    "# Viewing the data statistics\n",
    "df.describe()"
   ]
  },
  {
   "cell_type": "code",
   "execution_count": 11,
   "metadata": {
    "_uuid": "f35fcf15ca8787f7c2b27c9567e02bec12dd8232"
   },
   "outputs": [
    {
     "data": {
      "text/plain": [
       "(14, 14)"
      ]
     },
     "execution_count": 11,
     "metadata": {},
     "output_type": "execute_result"
    }
   ],
   "source": [
    "# Finding out the correlation between the features\n",
    "corr = df.corr()\n",
    "corr.shape"
   ]
  },
  {
   "cell_type": "code",
   "execution_count": 12,
   "metadata": {
    "_uuid": "8c44aa7df1ef21f85c1baba09dbb5807c223c51a"
   },
   "outputs": [],
   "source": [
    "# Splitting to training and testing data\n",
    "X = df.drop(['medv'], axis=1).values\n",
    "y = df['medv'].values\n",
    "\n",
    "# Split the data into training and testing sets\n",
    "X_train, X_test, y_train, y_test = train_test_split(X, y, test_size=0.2, random_state=42)"
   ]
  },
  {
   "cell_type": "markdown",
   "metadata": {
    "_uuid": "f585ceafa562d74250058bf0ff05cdf8ccebb577"
   },
   "source": [
    "#### Training the model"
   ]
  },
  {
   "cell_type": "code",
   "execution_count": 13,
   "metadata": {
    "_uuid": "74c1df4cd4ba074712c8fe65802acc568e0b6ba9",
    "scrolled": true
   },
   "outputs": [
    {
     "name": "stdout",
     "output_type": "stream",
     "text": [
      "Test loss: 47.40887451171875\n"
     ]
    }
   ],
   "source": [
    "# Create a model with a linear regression layer\n",
    "model = keras.Sequential([\n",
    "    keras.layers.Dense(units=1, input_shape=[13])\n",
    "])\n",
    "\n",
    "# Compile the model with a mean squared error loss function and an optimizer\n",
    "model.compile(loss='mean_squared_error', optimizer='adam')\n",
    "\n",
    "# Train the model on the training data\n",
    "history = model.fit(X_train, y_train, validation_split=0.2, epochs=100, batch_size=10, verbose=0)\n",
    "\n",
    "# Evaluate the model on the testing data\n",
    "test_loss = model.evaluate(X_test, y_test,verbose = 0)\n",
    "\n",
    "# Print the test loss\n",
    "print('Test loss:', test_loss)"
   ]
  },
  {
   "cell_type": "code",
   "execution_count": 14,
   "metadata": {
    "_uuid": "998fb3c39c9a86eb1bcd4d921dd183a6491335d7"
   },
   "outputs": [
    {
     "name": "stdout",
     "output_type": "stream",
     "text": [
      "Model: \"sequential_1\"\n",
      "_________________________________________________________________\n",
      " Layer (type)                Output Shape              Param #   \n",
      "=================================================================\n",
      " dense_1 (Dense)             (None, 128)               1792      \n",
      "                                                                 \n",
      " dense_2 (Dense)             (None, 64)                8256      \n",
      "                                                                 \n",
      " dense_output (Dense)        (None, 1)                 65        \n",
      "                                                                 \n",
      "=================================================================\n",
      "Total params: 10113 (39.50 KB)\n",
      "Trainable params: 10113 (39.50 KB)\n",
      "Non-trainable params: 0 (0.00 Byte)\n",
      "_________________________________________________________________\n"
     ]
    }
   ],
   "source": [
    "from tensorflow.keras.models import Sequential\n",
    "from tensorflow.keras.layers import Dense\n",
    "\n",
    "model = Sequential()\n",
    "\n",
    "model.add(Dense(128, input_shape=(13, ), activation='relu', name='dense_1'))\n",
    "model.add(Dense(64, activation='relu', name='dense_2'))\n",
    "model.add(Dense(1, activation='linear', name='dense_output'))\n",
    "\n",
    "model.compile(optimizer='adam', loss='mse', metrics=['mae'])\n",
    "model.summary()"
   ]
  },
  {
   "cell_type": "code",
   "execution_count": 15,
   "metadata": {
    "_uuid": "014c51bc46bb492a44f253c3c04e113ddbc39af6"
   },
   "outputs": [
    {
     "name": "stdout",
     "output_type": "stream",
     "text": [
      "Epoch 1/100\n",
      "12/12 [==============================] - 0s 11ms/step - loss: 1844.4539 - mae: 34.4630 - val_loss: 689.8291 - val_mae: 24.6774\n",
      "Epoch 2/100\n",
      "12/12 [==============================] - 0s 3ms/step - loss: 277.6357 - mae: 13.3986 - val_loss: 361.2442 - val_mae: 14.7244\n",
      "Epoch 3/100\n",
      "12/12 [==============================] - 0s 3ms/step - loss: 142.2892 - mae: 9.1483 - val_loss: 130.8475 - val_mae: 9.8251\n",
      "Epoch 4/100\n",
      "12/12 [==============================] - 0s 4ms/step - loss: 96.5706 - mae: 7.6038 - val_loss: 119.4087 - val_mae: 7.5262\n",
      "Epoch 5/100\n",
      "12/12 [==============================] - 0s 3ms/step - loss: 81.2965 - mae: 6.5599 - val_loss: 76.9289 - val_mae: 6.7491\n",
      "Epoch 6/100\n",
      "12/12 [==============================] - 0s 3ms/step - loss: 71.1064 - mae: 6.0545 - val_loss: 87.5332 - val_mae: 6.1175\n",
      "Epoch 7/100\n",
      "12/12 [==============================] - 0s 3ms/step - loss: 66.1427 - mae: 5.8453 - val_loss: 77.7703 - val_mae: 6.1930\n",
      "Epoch 8/100\n",
      "12/12 [==============================] - 0s 2ms/step - loss: 64.1983 - mae: 5.7878 - val_loss: 85.7739 - val_mae: 6.1273\n",
      "Epoch 9/100\n",
      "12/12 [==============================] - 0s 3ms/step - loss: 63.4146 - mae: 5.5868 - val_loss: 77.6862 - val_mae: 6.2179\n",
      "Epoch 10/100\n",
      "12/12 [==============================] - 0s 3ms/step - loss: 63.9517 - mae: 5.7805 - val_loss: 77.0958 - val_mae: 5.6771\n",
      "Epoch 11/100\n",
      "12/12 [==============================] - 0s 3ms/step - loss: 62.2429 - mae: 5.6425 - val_loss: 79.2154 - val_mae: 6.1703\n",
      "Epoch 12/100\n",
      "12/12 [==============================] - 0s 2ms/step - loss: 61.2450 - mae: 5.5342 - val_loss: 71.7485 - val_mae: 6.0080\n",
      "Epoch 13/100\n",
      "12/12 [==============================] - 0s 3ms/step - loss: 61.9787 - mae: 5.5569 - val_loss: 75.3025 - val_mae: 5.9804\n",
      "Epoch 14/100\n",
      "12/12 [==============================] - 0s 3ms/step - loss: 60.0171 - mae: 5.6181 - val_loss: 73.5369 - val_mae: 5.8199\n",
      "Epoch 15/100\n",
      "12/12 [==============================] - 0s 3ms/step - loss: 57.7958 - mae: 5.4614 - val_loss: 74.4813 - val_mae: 5.9614\n",
      "Epoch 16/100\n",
      "12/12 [==============================] - 0s 3ms/step - loss: 56.7855 - mae: 5.3652 - val_loss: 75.5760 - val_mae: 5.8523\n",
      "Epoch 17/100\n",
      "12/12 [==============================] - 0s 3ms/step - loss: 55.8400 - mae: 5.2355 - val_loss: 72.1795 - val_mae: 5.9234\n",
      "Epoch 18/100\n",
      "12/12 [==============================] - 0s 3ms/step - loss: 55.9370 - mae: 5.4192 - val_loss: 77.7811 - val_mae: 5.6820\n",
      "Epoch 19/100\n",
      "12/12 [==============================] - 0s 3ms/step - loss: 57.9757 - mae: 5.3049 - val_loss: 73.8336 - val_mae: 5.5189\n",
      "Epoch 20/100\n",
      "12/12 [==============================] - 0s 3ms/step - loss: 53.0105 - mae: 5.0461 - val_loss: 77.1115 - val_mae: 6.5829\n",
      "Epoch 21/100\n",
      "12/12 [==============================] - 0s 4ms/step - loss: 58.0066 - mae: 5.5277 - val_loss: 69.1049 - val_mae: 5.7894\n",
      "Epoch 22/100\n",
      "12/12 [==============================] - 0s 7ms/step - loss: 52.7474 - mae: 5.1258 - val_loss: 70.1335 - val_mae: 6.0221\n",
      "Epoch 23/100\n",
      "12/12 [==============================] - 0s 4ms/step - loss: 53.6369 - mae: 5.2339 - val_loss: 70.1869 - val_mae: 6.2109\n",
      "Epoch 24/100\n",
      "12/12 [==============================] - 0s 5ms/step - loss: 52.1757 - mae: 5.1500 - val_loss: 71.9418 - val_mae: 5.6204\n",
      "Epoch 25/100\n",
      "12/12 [==============================] - 0s 7ms/step - loss: 50.8554 - mae: 5.1419 - val_loss: 69.8547 - val_mae: 5.7813\n",
      "Epoch 26/100\n",
      "12/12 [==============================] - 0s 3ms/step - loss: 52.0076 - mae: 4.9613 - val_loss: 67.2751 - val_mae: 6.2901\n",
      "Epoch 27/100\n",
      "12/12 [==============================] - 0s 3ms/step - loss: 52.5089 - mae: 5.1569 - val_loss: 71.1872 - val_mae: 6.2227\n",
      "Epoch 28/100\n",
      "12/12 [==============================] - 0s 2ms/step - loss: 49.9004 - mae: 4.9663 - val_loss: 65.1378 - val_mae: 5.6638\n",
      "Epoch 29/100\n",
      "12/12 [==============================] - 0s 3ms/step - loss: 49.7827 - mae: 5.1884 - val_loss: 77.3620 - val_mae: 5.6502\n",
      "Epoch 30/100\n",
      "12/12 [==============================] - 0s 5ms/step - loss: 48.5649 - mae: 5.0428 - val_loss: 71.7704 - val_mae: 5.4694\n",
      "Epoch 31/100\n",
      "12/12 [==============================] - 0s 5ms/step - loss: 51.9465 - mae: 5.1975 - val_loss: 68.3895 - val_mae: 5.8427\n",
      "Epoch 32/100\n",
      "12/12 [==============================] - 0s 2ms/step - loss: 46.9266 - mae: 4.7318 - val_loss: 64.0885 - val_mae: 5.7876\n",
      "Epoch 33/100\n",
      "12/12 [==============================] - 0s 2ms/step - loss: 46.4519 - mae: 4.8557 - val_loss: 65.4510 - val_mae: 5.7680\n",
      "Epoch 34/100\n",
      "12/12 [==============================] - 0s 2ms/step - loss: 45.0484 - mae: 4.6472 - val_loss: 66.0515 - val_mae: 5.6981\n",
      "Epoch 35/100\n",
      "12/12 [==============================] - 0s 3ms/step - loss: 44.6216 - mae: 4.7064 - val_loss: 65.5803 - val_mae: 5.2026\n",
      "Epoch 36/100\n",
      "12/12 [==============================] - 0s 3ms/step - loss: 46.2271 - mae: 4.7346 - val_loss: 65.8627 - val_mae: 5.5653\n",
      "Epoch 37/100\n",
      "12/12 [==============================] - 0s 3ms/step - loss: 44.3240 - mae: 4.6512 - val_loss: 61.5485 - val_mae: 5.5392\n",
      "Epoch 38/100\n",
      "12/12 [==============================] - 0s 3ms/step - loss: 46.0930 - mae: 4.7675 - val_loss: 64.3211 - val_mae: 5.8515\n",
      "Epoch 39/100\n",
      "12/12 [==============================] - 0s 4ms/step - loss: 43.3232 - mae: 4.7111 - val_loss: 60.4271 - val_mae: 5.3506\n",
      "Epoch 40/100\n",
      "12/12 [==============================] - 0s 13ms/step - loss: 41.1655 - mae: 4.5040 - val_loss: 62.7924 - val_mae: 5.4216\n",
      "Epoch 41/100\n",
      "12/12 [==============================] - 0s 4ms/step - loss: 41.3212 - mae: 4.5173 - val_loss: 63.9630 - val_mae: 5.2332\n",
      "Epoch 42/100\n",
      "12/12 [==============================] - 0s 6ms/step - loss: 44.1966 - mae: 4.7768 - val_loss: 70.6337 - val_mae: 5.4148\n",
      "Epoch 43/100\n",
      "12/12 [==============================] - 0s 3ms/step - loss: 39.9979 - mae: 4.4744 - val_loss: 63.1639 - val_mae: 5.3610\n",
      "Epoch 44/100\n",
      "12/12 [==============================] - 0s 2ms/step - loss: 41.3644 - mae: 4.5892 - val_loss: 63.1824 - val_mae: 5.2276\n",
      "Epoch 45/100\n",
      "12/12 [==============================] - 0s 2ms/step - loss: 39.6146 - mae: 4.4603 - val_loss: 63.8544 - val_mae: 5.0679\n",
      "Epoch 46/100\n",
      "12/12 [==============================] - 0s 2ms/step - loss: 38.0710 - mae: 4.4262 - val_loss: 68.0600 - val_mae: 5.1960\n",
      "Epoch 47/100\n",
      "12/12 [==============================] - 0s 2ms/step - loss: 38.0508 - mae: 4.3049 - val_loss: 60.5388 - val_mae: 5.2400\n",
      "Epoch 48/100\n",
      "12/12 [==============================] - 0s 4ms/step - loss: 36.9983 - mae: 4.2887 - val_loss: 64.9535 - val_mae: 5.6412\n",
      "Epoch 49/100\n",
      "12/12 [==============================] - 0s 3ms/step - loss: 37.5478 - mae: 4.2887 - val_loss: 60.0725 - val_mae: 5.8959\n",
      "Epoch 50/100\n",
      "12/12 [==============================] - 0s 2ms/step - loss: 38.4558 - mae: 4.4625 - val_loss: 64.8850 - val_mae: 5.6829\n",
      "Epoch 51/100\n",
      "12/12 [==============================] - 0s 3ms/step - loss: 38.2155 - mae: 4.4265 - val_loss: 59.8956 - val_mae: 4.8144\n",
      "Epoch 52/100\n",
      "12/12 [==============================] - 0s 2ms/step - loss: 35.1623 - mae: 4.1825 - val_loss: 61.4381 - val_mae: 5.0831\n",
      "Epoch 53/100\n",
      "12/12 [==============================] - 0s 2ms/step - loss: 34.6823 - mae: 4.1861 - val_loss: 61.2046 - val_mae: 4.9290\n",
      "Epoch 54/100\n",
      "12/12 [==============================] - 0s 3ms/step - loss: 33.3741 - mae: 4.0073 - val_loss: 61.9274 - val_mae: 5.7186\n",
      "Epoch 55/100\n",
      "12/12 [==============================] - 0s 3ms/step - loss: 38.6060 - mae: 4.5289 - val_loss: 61.9537 - val_mae: 6.1675\n",
      "Epoch 56/100\n",
      "12/12 [==============================] - 0s 2ms/step - loss: 36.1747 - mae: 4.4157 - val_loss: 58.9702 - val_mae: 5.5435\n",
      "Epoch 57/100\n",
      "12/12 [==============================] - 0s 2ms/step - loss: 32.9487 - mae: 4.1052 - val_loss: 59.8117 - val_mae: 5.0909\n",
      "Epoch 58/100\n",
      "12/12 [==============================] - 0s 2ms/step - loss: 34.1366 - mae: 4.2987 - val_loss: 58.8816 - val_mae: 5.2859\n",
      "Epoch 59/100\n",
      "12/12 [==============================] - 0s 3ms/step - loss: 34.2480 - mae: 4.3283 - val_loss: 59.1232 - val_mae: 4.9186\n",
      "Epoch 60/100\n",
      "12/12 [==============================] - 0s 3ms/step - loss: 33.3644 - mae: 4.1554 - val_loss: 74.8918 - val_mae: 5.2461\n",
      "Epoch 61/100\n",
      "12/12 [==============================] - 0s 3ms/step - loss: 33.6508 - mae: 4.1528 - val_loss: 60.9460 - val_mae: 4.5772\n",
      "Epoch 62/100\n",
      "12/12 [==============================] - 0s 3ms/step - loss: 32.2937 - mae: 4.1799 - val_loss: 70.8692 - val_mae: 5.0919\n",
      "Epoch 63/100\n",
      "12/12 [==============================] - 0s 9ms/step - loss: 32.0025 - mae: 4.0680 - val_loss: 60.2084 - val_mae: 4.6628\n",
      "Epoch 64/100\n",
      "12/12 [==============================] - 0s 5ms/step - loss: 31.6039 - mae: 4.0684 - val_loss: 58.1229 - val_mae: 5.3064\n",
      "Epoch 65/100\n",
      "12/12 [==============================] - 0s 7ms/step - loss: 30.9844 - mae: 3.9667 - val_loss: 61.8455 - val_mae: 5.1489\n",
      "Epoch 66/100\n",
      "12/12 [==============================] - 0s 8ms/step - loss: 29.9476 - mae: 4.0056 - val_loss: 56.4444 - val_mae: 4.6390\n",
      "Epoch 67/100\n",
      "12/12 [==============================] - 0s 3ms/step - loss: 30.0300 - mae: 3.9829 - val_loss: 63.2467 - val_mae: 5.0269\n",
      "Epoch 68/100\n",
      "12/12 [==============================] - 0s 3ms/step - loss: 29.3603 - mae: 3.9201 - val_loss: 64.9399 - val_mae: 4.6224\n",
      "Epoch 69/100\n",
      "12/12 [==============================] - 0s 4ms/step - loss: 29.6164 - mae: 3.9761 - val_loss: 63.4406 - val_mae: 4.7249\n",
      "Epoch 70/100\n",
      "12/12 [==============================] - 0s 5ms/step - loss: 28.8648 - mae: 3.8995 - val_loss: 63.1875 - val_mae: 4.5894\n",
      "Epoch 71/100\n",
      "12/12 [==============================] - 0s 3ms/step - loss: 28.0234 - mae: 3.8228 - val_loss: 65.2884 - val_mae: 4.9225\n",
      "Epoch 72/100\n",
      "12/12 [==============================] - 0s 3ms/step - loss: 29.0366 - mae: 3.9607 - val_loss: 60.5129 - val_mae: 4.4889\n",
      "Epoch 73/100\n",
      "12/12 [==============================] - 0s 2ms/step - loss: 29.3060 - mae: 4.0489 - val_loss: 66.8142 - val_mae: 4.6672\n",
      "Epoch 74/100\n",
      "12/12 [==============================] - 0s 14ms/step - loss: 30.5898 - mae: 4.0312 - val_loss: 76.9652 - val_mae: 5.3359\n",
      "Epoch 75/100\n",
      "12/12 [==============================] - 0s 7ms/step - loss: 31.6845 - mae: 4.1058 - val_loss: 60.0945 - val_mae: 5.0002\n",
      "Epoch 76/100\n",
      "12/12 [==============================] - 0s 4ms/step - loss: 27.6305 - mae: 3.8581 - val_loss: 58.8224 - val_mae: 4.4999\n",
      "Epoch 77/100\n",
      "12/12 [==============================] - 0s 2ms/step - loss: 27.7927 - mae: 3.8938 - val_loss: 72.0493 - val_mae: 5.0205\n",
      "Epoch 78/100\n",
      "12/12 [==============================] - 0s 3ms/step - loss: 27.0535 - mae: 3.7948 - val_loss: 62.8857 - val_mae: 4.4843\n",
      "Epoch 79/100\n",
      "12/12 [==============================] - 0s 2ms/step - loss: 27.5733 - mae: 3.8900 - val_loss: 61.2191 - val_mae: 4.6628\n",
      "Epoch 80/100\n",
      "12/12 [==============================] - 0s 2ms/step - loss: 28.8815 - mae: 3.9779 - val_loss: 64.5448 - val_mae: 5.5210\n",
      "Epoch 81/100\n",
      "12/12 [==============================] - 0s 2ms/step - loss: 30.8315 - mae: 4.1110 - val_loss: 72.1849 - val_mae: 5.0548\n",
      "Epoch 82/100\n",
      "12/12 [==============================] - 0s 3ms/step - loss: 33.6087 - mae: 4.2825 - val_loss: 58.5455 - val_mae: 4.3636\n",
      "Epoch 83/100\n",
      "12/12 [==============================] - 0s 3ms/step - loss: 28.4100 - mae: 4.0131 - val_loss: 62.0954 - val_mae: 4.6828\n",
      "Epoch 84/100\n",
      "12/12 [==============================] - 0s 3ms/step - loss: 25.8101 - mae: 3.6576 - val_loss: 58.8036 - val_mae: 4.5130\n",
      "Epoch 85/100\n",
      "12/12 [==============================] - 0s 3ms/step - loss: 25.7065 - mae: 3.6823 - val_loss: 60.3223 - val_mae: 5.3009\n",
      "Epoch 86/100\n",
      "12/12 [==============================] - 0s 16ms/step - loss: 26.4142 - mae: 3.7705 - val_loss: 62.7457 - val_mae: 4.4635\n",
      "Epoch 87/100\n",
      "12/12 [==============================] - 0s 4ms/step - loss: 25.2172 - mae: 3.7091 - val_loss: 64.6673 - val_mae: 4.6824\n",
      "Epoch 88/100\n",
      "12/12 [==============================] - 0s 5ms/step - loss: 25.9694 - mae: 3.6315 - val_loss: 60.4349 - val_mae: 4.4545\n",
      "Epoch 89/100\n",
      "12/12 [==============================] - 0s 2ms/step - loss: 24.7646 - mae: 3.6408 - val_loss: 62.0140 - val_mae: 4.5011\n",
      "Epoch 90/100\n",
      "12/12 [==============================] - 0s 3ms/step - loss: 23.8704 - mae: 3.5419 - val_loss: 61.3887 - val_mae: 5.0358\n",
      "Epoch 91/100\n",
      "12/12 [==============================] - 0s 4ms/step - loss: 28.4531 - mae: 4.0053 - val_loss: 63.6175 - val_mae: 4.5737\n",
      "Epoch 92/100\n",
      "12/12 [==============================] - 0s 4ms/step - loss: 26.4994 - mae: 3.6937 - val_loss: 65.4897 - val_mae: 4.6381\n",
      "Epoch 93/100\n",
      "12/12 [==============================] - 0s 3ms/step - loss: 31.7979 - mae: 4.3717 - val_loss: 60.7365 - val_mae: 5.2667\n",
      "Epoch 94/100\n",
      "12/12 [==============================] - 0s 2ms/step - loss: 25.4473 - mae: 3.7957 - val_loss: 78.0855 - val_mae: 5.3834\n",
      "Epoch 95/100\n",
      "12/12 [==============================] - 0s 2ms/step - loss: 27.1075 - mae: 3.9217 - val_loss: 62.9397 - val_mae: 4.5599\n",
      "Epoch 96/100\n",
      "12/12 [==============================] - 0s 3ms/step - loss: 27.3060 - mae: 3.9534 - val_loss: 60.7049 - val_mae: 4.9667\n",
      "Epoch 97/100\n",
      "12/12 [==============================] - 0s 2ms/step - loss: 23.0792 - mae: 3.5489 - val_loss: 61.9401 - val_mae: 4.5696\n",
      "Epoch 98/100\n",
      "12/12 [==============================] - 0s 3ms/step - loss: 24.1066 - mae: 3.7405 - val_loss: 67.0724 - val_mae: 4.7287\n",
      "Epoch 99/100\n",
      "12/12 [==============================] - 0s 2ms/step - loss: 25.2732 - mae: 3.7649 - val_loss: 58.9127 - val_mae: 4.5506\n",
      "Epoch 100/100\n",
      "12/12 [==============================] - 0s 2ms/step - loss: 23.1005 - mae: 3.4792 - val_loss: 73.4847 - val_mae: 4.9859\n"
     ]
    }
   ],
   "source": [
    "history = model.fit(X_train, y_train, epochs=100, validation_split=0.05, verbose = 1)"
   ]
  },
  {
   "cell_type": "code",
   "execution_count": 16,
   "metadata": {},
   "outputs": [
    {
     "name": "stdout",
     "output_type": "stream",
     "text": [
      "4/4 [==============================] - 0s 1ms/step - loss: 26.7811 - mae: 3.3673\n",
      "Mean squared error on test data:  26.781082153320312\n",
      "Mean absolute error on test data:  3.367314100265503\n"
     ]
    }
   ],
   "source": [
    "mse_nn, mae_nn = model.evaluate(X_test, y_test)\n",
    "\n",
    "print('Mean squared error on test data: ', mse_nn)\n",
    "print('Mean absolute error on test data: ', mae_nn)"
   ]
  }
 ],
 "metadata": {
  "kernelspec": {
   "display_name": "Python 3 (ipykernel)",
   "language": "python",
   "name": "python3"
  },
  "language_info": {
   "codemirror_mode": {
    "name": "ipython",
    "version": 3
   },
   "file_extension": ".py",
   "mimetype": "text/x-python",
   "name": "python",
   "nbconvert_exporter": "python",
   "pygments_lexer": "ipython3",
   "version": "3.9.10"
  },
  "varInspector": {
   "cols": {
    "lenName": 16,
    "lenType": 16,
    "lenVar": 40
   },
   "kernels_config": {
    "python": {
     "delete_cmd_postfix": "",
     "delete_cmd_prefix": "del ",
     "library": "var_list.py",
     "varRefreshCmd": "print(var_dic_list())"
    },
    "r": {
     "delete_cmd_postfix": ") ",
     "delete_cmd_prefix": "rm(",
     "library": "var_list.r",
     "varRefreshCmd": "cat(var_dic_list()) "
    }
   },
   "types_to_exclude": [
    "module",
    "function",
    "builtin_function_or_method",
    "instance",
    "_Feature"
   ],
   "window_display": false
  }
 },
 "nbformat": 4,
 "nbformat_minor": 4
}
